{
 "cells": [
  {
   "cell_type": "code",
   "execution_count": 2,
   "metadata": {},
   "outputs": [
    {
     "name": "stdout",
     "output_type": "stream",
     "text": [
      "Jadi, volume balok dengan panjang 3, lebar 4, dan tinggi 5 adalah 60 cm^3\n",
      "Jadi, luas permukaan balok dengan panjang 3, lebar 4, dan tinggi 5 adalah 94 cm^2\n"
     ]
    }
   ],
   "source": [
    "panjang = int(input(\"Masukkan panjang balok dalam cm: \"))\n",
    "lebar = int(input(\"Masukkan lebar balok dalam cm: \"))\n",
    "tinggi = int(input(\"Masukkan tinggi balok dalam cm: \"))\n",
    "volume_balok = panjang*lebar*tinggi\n",
    "luas_permukaan = 2 * (panjang*lebar + lebar*tinggi + panjang*tinggi)\n",
    "print(f'Jadi, volume balok dengan panjang {panjang}, lebar {lebar}, dan tinggi {tinggi} adalah {volume_balok} cm^3')\n",
    "print(f'Jadi, luas permukaan balok dengan panjang {panjang}, lebar {lebar}, dan tinggi {tinggi} adalah {luas_permukaan} cm^2')"
   ]
  },
  {
   "cell_type": "code",
   "execution_count": 5,
   "metadata": {},
   "outputs": [
    {
     "name": "stdout",
     "output_type": "stream",
     "text": [
      "[21, 6, 12]\n",
      "jarak rumah yang paling jauh adalah:21\n",
      "jarak rumah yang paling dekat adalah:6\n",
      "Nilai dari mean adalah: 13.0\n"
     ]
    }
   ],
   "source": [
    "jarak_rumah = []\n",
    "nilai = input('Masukkan jarak rumahmu dan 2 temanmu ke kampus: ')\n",
    "jarak_rumah = nilai.split(',')\n",
    "\n",
    "angka_list = [int(nilai) for nilai in jarak_rumah]\n",
    "print(angka_list)\n",
    "\n",
    "#mencari nilai maksimal dan minimal\n",
    "print(f'jarak rumah yang paling jauh adalah:{max(angka_list)}')\n",
    "print(f'jarak rumah yang paling dekat adalah:{min(angka_list)}')\n",
    "\n",
    "#mencari nilai mean/rata-rata\n",
    "mean = sum(angka_list)/len(angka_list)\n",
    "print(f'Nilai dari mean adalah: {mean}')"
   ]
  },
  {
   "cell_type": "code",
   "execution_count": null,
   "metadata": {},
   "outputs": [],
   "source": [
    "data_kelas + {\n",
    "    'Kelas B': {\n",
    "        'nama' : {'Hani', 'Rian', 'Nurki'},\n",
    "        'angkatan' : \n",
    "    }\n",
    "}"
   ]
  },
  {
   "cell_type": "code",
   "execution_count": 6,
   "metadata": {},
   "outputs": [
    {
     "name": "stdout",
     "output_type": "stream",
     "text": [
      "['program.c', 'studio.h', 'sample.h', 'a.out', 'math.h', 'hpp.out']\n"
     ]
    }
   ],
   "source": [
    "filenames = [\"program.c\", \"studio.hpp\", \"sample.hpp\", \"a.out\", \"math.hpp\", \"hpp.out\"]\n",
    "newfilenames = [filename.replace(\".hpp\", \".h\") if filename.endswith(\".hpp\") else filename for filename in  filenames]\n",
    "\n",
    "print(newfilenames)"
   ]
  },
  {
   "cell_type": "code",
   "execution_count": 8,
   "metadata": {},
   "outputs": [
    {
     "name": "stdout",
     "output_type": "stream",
     "text": [
      "Hello\n",
      "Hello World\n",
      "HloWrd\n"
     ]
    }
   ],
   "source": [
    "string = \"Hello World\"\n",
    "print(string[0:5]) #Hello\n",
    "print(string[0:11]) #World\n",
    "print(string[0:11:2]) #HloWrd"
   ]
  },
  {
   "cell_type": "code",
   "execution_count": 18,
   "metadata": {},
   "outputs": [
    {
     "name": "stdout",
     "output_type": "stream",
     "text": [
      "True\n"
     ]
    }
   ],
   "source": [
    "#Boolean\n",
    "boolean1 = \"10\" == \"10\"\n",
    "print(boolean1)"
   ]
  },
  {
   "cell_type": "code",
   "execution_count": 22,
   "metadata": {},
   "outputs": [
    {
     "name": "stdout",
     "output_type": "stream",
     "text": [
      "0b1000\n"
     ]
    }
   ],
   "source": [
    "#Binary\n",
    "biner = bin(8)\n",
    "print(biner)"
   ]
  }
 ],
 "metadata": {
  "kernelspec": {
   "display_name": "Python 3",
   "language": "python",
   "name": "python3"
  },
  "language_info": {
   "codemirror_mode": {
    "name": "ipython",
    "version": 3
   },
   "file_extension": ".py",
   "mimetype": "text/x-python",
   "name": "python",
   "nbconvert_exporter": "python",
   "pygments_lexer": "ipython3",
   "version": "3.10.8"
  },
  "orig_nbformat": 4
 },
 "nbformat": 4,
 "nbformat_minor": 2
}
